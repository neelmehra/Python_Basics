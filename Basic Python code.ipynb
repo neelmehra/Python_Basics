{
 "cells": [
  {
   "cell_type": "markdown",
   "id": "65d11d2c",
   "metadata": {},
   "source": [
    "#Extension file\n",
    "\n",
    "- universal extension for python .py(this can run anywhere)\n",
    "- jupyter notebook .ipynb - interactive python notebook (this can run only jupyter notebok)"
   ]
  },
  {
   "cell_type": "code",
   "execution_count": 1,
   "id": "aabd584e",
   "metadata": {},
   "outputs": [
    {
     "data": {
      "text/plain": [
       "'C:\\\\Users\\\\91955\\\\python files'"
      ]
     },
     "execution_count": 1,
     "metadata": {},
     "output_type": "execute_result"
    }
   ],
   "source": [
    "pwd"
   ]
  },
  {
   "cell_type": "code",
   "execution_count": 1,
   "id": "a1566a76",
   "metadata": {},
   "outputs": [
    {
     "name": "stdout",
     "output_type": "stream",
     "text": [
      "['False', 'None', 'True', '__peg_parser__', 'and', 'as', 'assert', 'async', 'await', 'break', 'class', 'continue', 'def', 'del', 'elif', 'else', 'except', 'finally', 'for', 'from', 'global', 'if', 'import', 'in', 'is', 'lambda', 'nonlocal', 'not', 'or', 'pass', 'raise', 'return', 'try', 'while', 'with', 'yield']\n"
     ]
    }
   ],
   "source": [
    "import keyword\n",
    "print(keyword.kwlist)"
   ]
  },
  {
   "cell_type": "code",
   "execution_count": 5,
   "id": "12dbfb96",
   "metadata": {},
   "outputs": [],
   "source": [
    "a=20"
   ]
  },
  {
   "cell_type": "code",
   "execution_count": 6,
   "id": "56faf2b2",
   "metadata": {},
   "outputs": [
    {
     "data": {
      "text/plain": [
       "5.0"
      ]
     },
     "execution_count": 6,
     "metadata": {},
     "output_type": "execute_result"
    }
   ],
   "source": [
    "10/2\n"
   ]
  },
  {
   "cell_type": "code",
   "execution_count": 7,
   "id": "716b4e96",
   "metadata": {},
   "outputs": [
    {
     "data": {
      "text/plain": [
       "5"
      ]
     },
     "execution_count": 7,
     "metadata": {},
     "output_type": "execute_result"
    }
   ],
   "source": [
    "10//2"
   ]
  },
  {
   "cell_type": "code",
   "execution_count": 8,
   "id": "1bc0f7fb",
   "metadata": {},
   "outputs": [
    {
     "data": {
      "text/plain": [
       "7.5"
      ]
     },
     "execution_count": 8,
     "metadata": {},
     "output_type": "execute_result"
    }
   ],
   "source": [
    "15/2"
   ]
  },
  {
   "cell_type": "code",
   "execution_count": 9,
   "id": "82c3793c",
   "metadata": {},
   "outputs": [
    {
     "data": {
      "text/plain": [
       "7"
      ]
     },
     "execution_count": 9,
     "metadata": {},
     "output_type": "execute_result"
    }
   ],
   "source": [
    "15//2"
   ]
  },
  {
   "cell_type": "code",
   "execution_count": 10,
   "id": "494d4fbb",
   "metadata": {},
   "outputs": [
    {
     "name": "stdout",
     "output_type": "stream",
     "text": [
      "True\n"
     ]
    }
   ],
   "source": [
    "a= 'learnbay'\n",
    "b= 'learnbaa'\n",
    "print(a>b)"
   ]
  },
  {
   "cell_type": "code",
   "execution_count": 16,
   "id": "0ccfa58d",
   "metadata": {},
   "outputs": [
    {
     "name": "stdout",
     "output_type": "stream",
     "text": [
      "a\n",
      "97\n"
     ]
    }
   ],
   "source": [
    "print (chr(97))\n",
    "print(ord('a'))"
   ]
  },
  {
   "cell_type": "code",
   "execution_count": 19,
   "id": "ef21b810",
   "metadata": {},
   "outputs": [
    {
     "name": "stdout",
     "output_type": "stream",
     "text": [
      "16\n"
     ]
    }
   ],
   "source": [
    "x= 24\n",
    "y = 16\n",
    "\n",
    "print (x & y)"
   ]
  },
  {
   "cell_type": "code",
   "execution_count": null,
   "id": "bdb8d52a",
   "metadata": {},
   "outputs": [],
   "source": [
    "1 1 0 0 0 \n",
    "1 0 0 0 0\n",
    "1 0 0 0 0"
   ]
  },
  {
   "cell_type": "code",
   "execution_count": null,
   "id": "16e47924",
   "metadata": {},
   "outputs": [],
   "source": []
  },
  {
   "cell_type": "code",
   "execution_count": 18,
   "id": "f913bb12",
   "metadata": {},
   "outputs": [
    {
     "data": {
      "text/plain": [
       "'0b11000'"
      ]
     },
     "execution_count": 18,
     "metadata": {},
     "output_type": "execute_result"
    }
   ],
   "source": [
    "bin(24)"
   ]
  },
  {
   "cell_type": "code",
   "execution_count": 20,
   "id": "102f4749",
   "metadata": {},
   "outputs": [
    {
     "data": {
      "text/plain": [
       "'0b10000'"
      ]
     },
     "execution_count": 20,
     "metadata": {},
     "output_type": "execute_result"
    }
   ],
   "source": [
    "bin(16)"
   ]
  },
  {
   "cell_type": "code",
   "execution_count": 21,
   "id": "41cc72bc",
   "metadata": {},
   "outputs": [
    {
     "data": {
      "text/plain": [
       "0"
      ]
     },
     "execution_count": 21,
     "metadata": {},
     "output_type": "execute_result"
    }
   ],
   "source": [
    "10%2"
   ]
  },
  {
   "cell_type": "code",
   "execution_count": 2,
   "id": "1df69050",
   "metadata": {},
   "outputs": [
    {
     "name": "stdout",
     "output_type": "stream",
     "text": [
      "1564776489616\n",
      "1564776489616\n"
     ]
    }
   ],
   "source": [
    "x= 200\n",
    "y= 200\n",
    "\n",
    "print(id(x))\n",
    "print(id(y))"
   ]
  },
  {
   "cell_type": "code",
   "execution_count": 4,
   "id": "503431cc",
   "metadata": {},
   "outputs": [
    {
     "name": "stdout",
     "output_type": "stream",
     "text": [
      "1564857822736\n",
      "1564857823088\n"
     ]
    }
   ],
   "source": [
    "x= 257\n",
    "y= 257\n",
    "\n",
    "print(id(x))\n",
    "print(id(y))"
   ]
  },
  {
   "cell_type": "code",
   "execution_count": 6,
   "id": "c39e437d",
   "metadata": {},
   "outputs": [
    {
     "name": "stdout",
     "output_type": "stream",
     "text": [
      "ask me10\n",
      "<class 'str'>\n"
     ]
    }
   ],
   "source": [
    "a = input('ask me')\n",
    "print(type(a))"
   ]
  },
  {
   "cell_type": "code",
   "execution_count": 7,
   "id": "5c0b98a8",
   "metadata": {},
   "outputs": [
    {
     "name": "stdout",
     "output_type": "stream",
     "text": [
      "ask me10\n",
      "<class 'int'>\n"
     ]
    }
   ],
   "source": [
    "a = int(input('ask me'))\n",
    "print(type(a))"
   ]
  },
  {
   "cell_type": "code",
   "execution_count": 10,
   "id": "d2f8f657",
   "metadata": {},
   "outputs": [
    {
     "name": "stdout",
     "output_type": "stream",
     "text": [
      "ask me10.4\n",
      "<class 'float'>\n"
     ]
    }
   ],
   "source": [
    "a = eval(input('ask me'))\n",
    "print(type(a))"
   ]
  },
  {
   "cell_type": "code",
   "execution_count": 11,
   "id": "e1def776",
   "metadata": {},
   "outputs": [
    {
     "data": {
      "text/plain": [
       "10.0"
      ]
     },
     "execution_count": 11,
     "metadata": {},
     "output_type": "execute_result"
    }
   ],
   "source": [
    "a= 10\n",
    "float(a)"
   ]
  },
  {
   "cell_type": "code",
   "execution_count": 12,
   "id": "58fd4755",
   "metadata": {},
   "outputs": [
    {
     "name": "stdout",
     "output_type": "stream",
     "text": [
      "102030"
     ]
    }
   ],
   "source": [
    "a=10\n",
    "b= 20\n",
    "c=30\n",
    "\n",
    "print(a , end = '')\n",
    "print(b, end = '')\n",
    "print(c , end = '')"
   ]
  },
  {
   "cell_type": "code",
   "execution_count": 13,
   "id": "4b3b8b34",
   "metadata": {},
   "outputs": [
    {
     "name": "stdout",
     "output_type": "stream",
     "text": [
      "enter the first nameNeelam\n",
      "enter the last nameMehra\n",
      "Neelam Mehra\n"
     ]
    }
   ],
   "source": [
    "a= input(\"enter the first name\")\n",
    "b= input(\"enter the last name\")\n",
    "print (a,b)"
   ]
  },
  {
   "cell_type": "code",
   "execution_count": 16,
   "id": "efcebe0f",
   "metadata": {},
   "outputs": [
    {
     "ename": "SyntaxError",
     "evalue": "invalid syntax (Temp/ipykernel_11980/3363930894.py, line 3)",
     "output_type": "error",
     "traceback": [
      "\u001b[1;36m  File \u001b[1;32m\"C:\\Users\\91955\\AppData\\Local\\Temp/ipykernel_11980/3363930894.py\"\u001b[1;36m, line \u001b[1;32m3\u001b[0m\n\u001b[1;33m    print (f \" {a} My first name  and {b} is my last name\")\u001b[0m\n\u001b[1;37m             ^\u001b[0m\n\u001b[1;31mSyntaxError\u001b[0m\u001b[1;31m:\u001b[0m invalid syntax\n"
     ]
    }
   ],
   "source": [
    "a= input(\"enter the first name\")\n",
    "b= input(\"enter the last name\")\n",
    "print (f \" {a} My first name  and {b} is my last name\")"
   ]
  },
  {
   "cell_type": "code",
   "execution_count": 17,
   "id": "f6d6f3de",
   "metadata": {},
   "outputs": [
    {
     "name": "stdout",
     "output_type": "stream",
     "text": [
      "enter the first nameNeelam\n",
      "enter the last nameMehra\n",
      " Neelam My first name  and Mehra is my last name\n"
     ]
    }
   ],
   "source": [
    "a= input(\"enter the first name\")\n",
    "b= input(\"enter the last name\")\n",
    "print (\" {} My first name  and {} is my last name\".format(a,b))"
   ]
  },
  {
   "cell_type": "code",
   "execution_count": 18,
   "id": "db3cb8f1",
   "metadata": {},
   "outputs": [
    {
     "data": {
      "text/plain": [
       "True"
      ]
     },
     "execution_count": 18,
     "metadata": {},
     "output_type": "execute_result"
    }
   ],
   "source": [
    "a= 10\n",
    "bool(a)"
   ]
  },
  {
   "cell_type": "code",
   "execution_count": 1,
   "id": "6bec6a2b",
   "metadata": {},
   "outputs": [
    {
     "data": {
      "text/plain": [
       "''"
      ]
     },
     "execution_count": 1,
     "metadata": {},
     "output_type": "execute_result"
    }
   ],
   "source": [
    "a= 'Python'\n",
    "\n",
    "a[-3:0:1]"
   ]
  },
  {
   "cell_type": "markdown",
   "id": "41de82fb",
   "metadata": {},
   "source": [
    " p  y  t  h  o  n\n",
    " 0  1  2  3  4  5\n",
    "-6 -5 -4 -3 -2 -1"
   ]
  },
  {
   "cell_type": "code",
   "execution_count": 2,
   "id": "b82197a2",
   "metadata": {},
   "outputs": [
    {
     "data": {
      "text/plain": [
       "'ohtyP'"
      ]
     },
     "execution_count": 2,
     "metadata": {},
     "output_type": "execute_result"
    }
   ],
   "source": [
    "a[-2::-1]"
   ]
  },
  {
   "cell_type": "code",
   "execution_count": 3,
   "id": "cec99b04",
   "metadata": {},
   "outputs": [
    {
     "data": {
      "text/plain": [
       "''"
      ]
     },
     "execution_count": 3,
     "metadata": {},
     "output_type": "execute_result"
    }
   ],
   "source": [
    "a[6:3:2]"
   ]
  },
  {
   "cell_type": "code",
   "execution_count": 4,
   "id": "6dde3574",
   "metadata": {},
   "outputs": [
    {
     "data": {
      "text/plain": [
       "'nh'"
      ]
     },
     "execution_count": 4,
     "metadata": {},
     "output_type": "execute_result"
    }
   ],
   "source": [
    "a[6:1:-2]"
   ]
  },
  {
   "cell_type": "code",
   "execution_count": 6,
   "id": "c17bd9a2",
   "metadata": {},
   "outputs": [
    {
     "name": "stdout",
     "output_type": "stream",
     "text": [
      "Neelam Mehra\n"
     ]
    }
   ],
   "source": [
    "a= 'Neelam'\n",
    "b = 'Mehra'\n",
    "print (a +\" \"+b)   #concatination"
   ]
  },
  {
   "cell_type": "code",
   "execution_count": 7,
   "id": "4af72656",
   "metadata": {},
   "outputs": [
    {
     "name": "stdout",
     "output_type": "stream",
     "text": [
      "['__add__', '__class__', '__contains__', '__delattr__', '__dir__', '__doc__', '__eq__', '__format__', '__ge__', '__getattribute__', '__getitem__', '__getnewargs__', '__gt__', '__hash__', '__init__', '__init_subclass__', '__iter__', '__le__', '__len__', '__lt__', '__mod__', '__mul__', '__ne__', '__new__', '__reduce__', '__reduce_ex__', '__repr__', '__rmod__', '__rmul__', '__setattr__', '__sizeof__', '__str__', '__subclasshook__', 'capitalize', 'casefold', 'center', 'count', 'encode', 'endswith', 'expandtabs', 'find', 'format', 'format_map', 'index', 'isalnum', 'isalpha', 'isascii', 'isdecimal', 'isdigit', 'isidentifier', 'islower', 'isnumeric', 'isprintable', 'isspace', 'istitle', 'isupper', 'join', 'ljust', 'lower', 'lstrip', 'maketrans', 'partition', 'removeprefix', 'removesuffix', 'replace', 'rfind', 'rindex', 'rjust', 'rpartition', 'rsplit', 'rstrip', 'split', 'splitlines', 'startswith', 'strip', 'swapcase', 'title', 'translate', 'upper', 'zfill']\n"
     ]
    }
   ],
   "source": [
    "print(dir(str))"
   ]
  },
  {
   "cell_type": "code",
   "execution_count": 12,
   "id": "2672d219",
   "metadata": {},
   "outputs": [
    {
     "name": "stdout",
     "output_type": "stream",
     "text": [
      "This is a python class\n",
      "This is a python class\n",
      "_____________________________________________________________________________________________________________________________\n",
      "this is a python class\n",
      "this is a python class\n",
      "_____________________________________________________________________________________________________________________________\n",
      "THIS IS A PYTHON CLASS\n",
      "THIS IS A PYTHON CLASS\n",
      "_____________________________________________________________________________________________________________________________\n",
      "THIS IS A PYTHON CLASS\n",
      "this is A pYTHON cLASS\n",
      "_____________________________________________________________________________________________________________________________\n",
      "This Is A Python Class\n",
      "This Is A Python Class\n",
      "_____________________________________________________________________________________________________________________________\n",
      "False\n"
     ]
    }
   ],
   "source": [
    "s= 'this is a python class'\n",
    "s1= 'THIS IS a Python Class'\n",
    "\n",
    "\n",
    "print(s.capitalize())\n",
    "print(s1.capitalize())\n",
    "print ('_____'*25)\n",
    "\n",
    "print(s.lower())\n",
    "print(s1.lower())\n",
    "print ('_____'*25)\n",
    "\n",
    "\n",
    "print(s.upper())\n",
    "print(s1.upper())\n",
    "print ('_____'*25)\n",
    "\n",
    "\n",
    "print(s.swapcase())\n",
    "print(s1.swapcase())\n",
    "print ('_____'*25)\n",
    "\n",
    "print(s.title())\n",
    "print(s1.title())\n",
    "print ('_____'*25)\n",
    "\n",
    "print(s.isupper())\n"
   ]
  },
  {
   "cell_type": "code",
   "execution_count": 14,
   "id": "00d48acb",
   "metadata": {},
   "outputs": [],
   "source": [
    "##special char/escaping char\n"
   ]
  },
  {
   "cell_type": "code",
   "execution_count": 15,
   "id": "46320447",
   "metadata": {},
   "outputs": [
    {
     "name": "stdout",
     "output_type": "stream",
     "text": [
      "hello\n",
      "world\n"
     ]
    }
   ],
   "source": [
    "##\\n\n",
    "\n",
    "print('hello\\nworld')"
   ]
  },
  {
   "cell_type": "code",
   "execution_count": 17,
   "id": "5cec7acd",
   "metadata": {},
   "outputs": [
    {
     "name": "stdout",
     "output_type": "stream",
     "text": [
      "this is python's class\n"
     ]
    }
   ],
   "source": [
    "#\\\n",
    "\n",
    "print('this is python\\'s class')"
   ]
  },
  {
   "cell_type": "code",
   "execution_count": 17,
   "id": "1831d5ae",
   "metadata": {},
   "outputs": [],
   "source": [
    "d= [[1,2,4],[5,6,7],[8,[9,10,['a','b']]]]"
   ]
  },
  {
   "cell_type": "code",
   "execution_count": 22,
   "id": "a17425b3",
   "metadata": {},
   "outputs": [
    {
     "data": {
      "text/plain": [
       "'a'"
      ]
     },
     "execution_count": 22,
     "metadata": {},
     "output_type": "execute_result"
    }
   ],
   "source": [
    "d[-1][-1][-1][-2]"
   ]
  },
  {
   "cell_type": "code",
   "execution_count": 23,
   "id": "55e995bc",
   "metadata": {},
   "outputs": [
    {
     "data": {
      "text/plain": [
       "'a'"
      ]
     },
     "execution_count": 23,
     "metadata": {},
     "output_type": "execute_result"
    }
   ],
   "source": [
    "d[2][-1][-1][-2]"
   ]
  },
  {
   "cell_type": "code",
   "execution_count": 24,
   "id": "767779b2",
   "metadata": {},
   "outputs": [
    {
     "data": {
      "text/plain": [
       "'a'"
      ]
     },
     "execution_count": 24,
     "metadata": {},
     "output_type": "execute_result"
    }
   ],
   "source": [
    "d[2][1][2][0]"
   ]
  },
  {
   "cell_type": "code",
   "execution_count": null,
   "id": "e543b728",
   "metadata": {},
   "outputs": [],
   "source": []
  },
  {
   "cell_type": "code",
   "execution_count": 9,
   "id": "6f834e04",
   "metadata": {},
   "outputs": [],
   "source": [
    "b= [1,2,3,['afsan','khan'],['learmbay']]\n"
   ]
  },
  {
   "cell_type": "code",
   "execution_count": 10,
   "id": "7fc5b139",
   "metadata": {},
   "outputs": [
    {
     "data": {
      "text/plain": [
       "['afsan', 'khan']"
      ]
     },
     "execution_count": 10,
     "metadata": {},
     "output_type": "execute_result"
    }
   ],
   "source": [
    "b[-2]"
   ]
  },
  {
   "cell_type": "code",
   "execution_count": 12,
   "id": "4306eacf",
   "metadata": {},
   "outputs": [
    {
     "data": {
      "text/plain": [
       "'khan'"
      ]
     },
     "execution_count": 12,
     "metadata": {},
     "output_type": "execute_result"
    }
   ],
   "source": [
    "b[-2][-1]"
   ]
  },
  {
   "cell_type": "code",
   "execution_count": 13,
   "id": "dba53881",
   "metadata": {},
   "outputs": [
    {
     "data": {
      "text/plain": [
       "'ka'"
      ]
     },
     "execution_count": 13,
     "metadata": {},
     "output_type": "execute_result"
    }
   ],
   "source": [
    "b[-2][-1][::2]"
   ]
  },
  {
   "cell_type": "code",
   "execution_count": 27,
   "id": "1568591f",
   "metadata": {},
   "outputs": [
    {
     "data": {
      "text/plain": [
       "['__add__',\n",
       " '__class__',\n",
       " '__class_getitem__',\n",
       " '__contains__',\n",
       " '__delattr__',\n",
       " '__delitem__',\n",
       " '__dir__',\n",
       " '__doc__',\n",
       " '__eq__',\n",
       " '__format__',\n",
       " '__ge__',\n",
       " '__getattribute__',\n",
       " '__getitem__',\n",
       " '__gt__',\n",
       " '__hash__',\n",
       " '__iadd__',\n",
       " '__imul__',\n",
       " '__init__',\n",
       " '__init_subclass__',\n",
       " '__iter__',\n",
       " '__le__',\n",
       " '__len__',\n",
       " '__lt__',\n",
       " '__mul__',\n",
       " '__ne__',\n",
       " '__new__',\n",
       " '__reduce__',\n",
       " '__reduce_ex__',\n",
       " '__repr__',\n",
       " '__reversed__',\n",
       " '__rmul__',\n",
       " '__setattr__',\n",
       " '__setitem__',\n",
       " '__sizeof__',\n",
       " '__str__',\n",
       " '__subclasshook__',\n",
       " 'append',\n",
       " 'clear',\n",
       " 'copy',\n",
       " 'count',\n",
       " 'extend',\n",
       " 'index',\n",
       " 'insert',\n",
       " 'pop',\n",
       " 'remove',\n",
       " 'reverse',\n",
       " 'sort']"
      ]
     },
     "execution_count": 27,
     "metadata": {},
     "output_type": "execute_result"
    }
   ],
   "source": [
    "dir(list)"
   ]
  },
  {
   "cell_type": "code",
   "execution_count": 42,
   "id": "318e2499",
   "metadata": {},
   "outputs": [
    {
     "name": "stdout",
     "output_type": "stream",
     "text": [
      "[1, 2, 3, 4]\n",
      "[1, 2, 3, 4]\n",
      "2472529943168\n",
      "2472529943168\n",
      "---------------------------------------------------------------------------\n",
      "[1, 100, 3, 4]\n",
      "[1, 100, 3, 4]\n",
      "2472529943168\n",
      "2472529943168\n"
     ]
    }
   ],
   "source": [
    "af= [1,2,3,4]\n",
    "bf=af\n",
    "print(af)\n",
    "print(bf)\n",
    "print(id(af))\n",
    "print(id(af))\n",
    "print(\"---\"*25)\n",
    "\n",
    "bf[1]=100\n",
    "print(af)\n",
    "print(bf)\n",
    "print(id(af))\n",
    "print(id(af))\n"
   ]
  },
  {
   "cell_type": "code",
   "execution_count": 43,
   "id": "085bc6b4",
   "metadata": {},
   "outputs": [
    {
     "name": "stdout",
     "output_type": "stream",
     "text": [
      "[1, 2, 3, 4]\n",
      "[1, 2, 3, 4]\n",
      "2472529942912\n",
      "2472529905280\n",
      "------------------------------------------------------------------------------------------------\n",
      "[1, 2, 3, 4]\n",
      "[1, 100, 3, 4]\n",
      "2472529942912\n",
      "2472529905280\n"
     ]
    }
   ],
   "source": [
    "cf= [1,2,3,4]\n",
    "df= cf.copy()\n",
    "print(cf)\n",
    "print(df)\n",
    "print(id(cf))\n",
    "print(id(df))\n",
    "print('----'*24)\n",
    "\n",
    "df[1]=100\n",
    "print(cf)\n",
    "print(df)\n",
    "print(id(cf))\n",
    "print(id(df))"
   ]
  },
  {
   "cell_type": "code",
   "execution_count": 45,
   "id": "dc5836e3",
   "metadata": {},
   "outputs": [
    {
     "name": "stdout",
     "output_type": "stream",
     "text": [
      "afsan\n",
      "sakshi\n",
      "mohit\n"
     ]
    }
   ],
   "source": [
    "for i in ['afsan', 'sakshi','mohit']:\n",
    "    print(i)"
   ]
  },
  {
   "cell_type": "code",
   "execution_count": 1,
   "id": "7ea2087a",
   "metadata": {},
   "outputs": [],
   "source": [
    "import numpy as np"
   ]
  },
  {
   "cell_type": "code",
   "execution_count": 4,
   "id": "f3bfb03d",
   "metadata": {},
   "outputs": [
    {
     "name": "stdout",
     "output_type": "stream",
     "text": [
      "[10 20 30 40]\n"
     ]
    }
   ],
   "source": [
    "arr = np.array([10, 15, 20, 25, 30, 35, 40])\n",
    "\n",
    "print(arr[::2])"
   ]
  },
  {
   "cell_type": "code",
   "execution_count": 5,
   "id": "bbc92368",
   "metadata": {},
   "outputs": [
    {
     "name": "stdout",
     "output_type": "stream",
     "text": [
      "[15 25]\n"
     ]
    }
   ],
   "source": [
    "arr = np.array([10, 15, 20, 25, 30, 35, 40])\n",
    "\n",
    "print(arr[1:4:2])"
   ]
  },
  {
   "cell_type": "code",
   "execution_count": 6,
   "id": "aeb8a782",
   "metadata": {},
   "outputs": [
    {
     "name": "stdout",
     "output_type": "stream",
     "text": [
      "1\n",
      "2\n",
      "3\n",
      "4\n",
      "5\n",
      "6\n"
     ]
    }
   ],
   "source": [
    "#iteration in numpy\n",
    "\n",
    "\n",
    "arr = np.array([[1, 2, 3], [4, 5, 6]])\n",
    "\n",
    "for x in arr:\n",
    "  for y in x:\n",
    "    print(y)\n"
   ]
  },
  {
   "cell_type": "code",
   "execution_count": 7,
   "id": "bda35664",
   "metadata": {},
   "outputs": [
    {
     "name": "stdout",
     "output_type": "stream",
     "text": [
      "[1 2 3]\n",
      "[4 5 6]\n"
     ]
    }
   ],
   "source": [
    "arr = np.array([[1, 2, 3], [4, 5, 6]])\n",
    "\n",
    "for x in arr:\n",
    "  print(x)"
   ]
  },
  {
   "cell_type": "code",
   "execution_count": 8,
   "id": "d473c422",
   "metadata": {},
   "outputs": [
    {
     "name": "stdout",
     "output_type": "stream",
     "text": [
      "1\n",
      "2\n",
      "3\n"
     ]
    }
   ],
   "source": [
    "arr = np.array([1, 2, 3])\n",
    "\n",
    "for x in arr:\n",
    "  print(x)"
   ]
  },
  {
   "cell_type": "code",
   "execution_count": 9,
   "id": "d174bf97",
   "metadata": {},
   "outputs": [
    {
     "name": "stdout",
     "output_type": "stream",
     "text": [
      "[1 2 3 4 5 6]\n"
     ]
    }
   ],
   "source": [
    "arr1 = np.array([1, 2, 3])\n",
    "\n",
    "arr2 = np.array([4, 5, 6])\n",
    "\n",
    "arr = np.concatenate((arr1, arr2))\n",
    "\n",
    "print(arr)"
   ]
  },
  {
   "cell_type": "code",
   "execution_count": 10,
   "id": "a956e0f3",
   "metadata": {},
   "outputs": [
    {
     "name": "stdout",
     "output_type": "stream",
     "text": [
      "[[1 2 5 6]\n",
      " [3 4 7 8]]\n"
     ]
    }
   ],
   "source": [
    "arr1 = np.array([[1, 2], [3, 4]])\n",
    "\n",
    "arr2 = np.array([[5, 6], [7, 8]])\n",
    "\n",
    "arr = np.concatenate((arr1, arr2), axis=1)\n",
    "\n",
    "print(arr)"
   ]
  },
  {
   "cell_type": "code",
   "execution_count": 11,
   "id": "fb59a458",
   "metadata": {},
   "outputs": [
    {
     "name": "stdout",
     "output_type": "stream",
     "text": [
      "[[1 4]\n",
      " [2 5]\n",
      " [3 6]]\n"
     ]
    }
   ],
   "source": [
    "arr1 = np.array([1, 2, 3])\n",
    "\n",
    "arr2 = np.array([4, 5, 6])\n",
    "\n",
    "arr = np.stack((arr1, arr2), axis=1)\n",
    "\n",
    "print(arr)"
   ]
  },
  {
   "cell_type": "code",
   "execution_count": 12,
   "id": "4e487b71",
   "metadata": {},
   "outputs": [
    {
     "name": "stdout",
     "output_type": "stream",
     "text": [
      "[1 2 3 4 5 6]\n"
     ]
    }
   ],
   "source": [
    "arr1 = np.array([1, 2, 3])\n",
    "\n",
    "arr2 = np.array([4, 5, 6])\n",
    "\n",
    "arr = np.hstack((arr1, arr2))\n",
    "\n",
    "print(arr)"
   ]
  },
  {
   "cell_type": "code",
   "execution_count": 13,
   "id": "72ed0e79",
   "metadata": {},
   "outputs": [
    {
     "name": "stdout",
     "output_type": "stream",
     "text": [
      "[[1 2 3]\n",
      " [4 5 6]]\n"
     ]
    }
   ],
   "source": [
    "arr1 = np.array([1, 2, 3])\n",
    "\n",
    "arr2 = np.array([4, 5, 6])\n",
    "\n",
    "arr = np.vstack((arr1, arr2))\n",
    "\n",
    "print(arr)"
   ]
  },
  {
   "cell_type": "code",
   "execution_count": 1,
   "id": "90dc7f68",
   "metadata": {},
   "outputs": [
    {
     "data": {
      "text/plain": [
       "'C:\\\\Users\\\\91955\\\\python files'"
      ]
     },
     "execution_count": 1,
     "metadata": {},
     "output_type": "execute_result"
    }
   ],
   "source": [
    "pwd"
   ]
  },
  {
   "cell_type": "code",
   "execution_count": null,
   "id": "fa5cfafd",
   "metadata": {},
   "outputs": [],
   "source": []
  }
 ],
 "metadata": {
  "kernelspec": {
   "display_name": "Python 3 (ipykernel)",
   "language": "python",
   "name": "python3"
  },
  "language_info": {
   "codemirror_mode": {
    "name": "ipython",
    "version": 3
   },
   "file_extension": ".py",
   "mimetype": "text/x-python",
   "name": "python",
   "nbconvert_exporter": "python",
   "pygments_lexer": "ipython3",
   "version": "3.9.7"
  }
 },
 "nbformat": 4,
 "nbformat_minor": 5
}
