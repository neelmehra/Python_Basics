{
 "cells": [
  {
   "cell_type": "code",
   "execution_count": 1,
   "id": "1c36c3dc",
   "metadata": {},
   "outputs": [
    {
     "name": "stdout",
     "output_type": "stream",
     "text": [
      "messi\n",
      "afsan\n"
     ]
    }
   ],
   "source": [
    "a= 10\n",
    "b= 20\n",
    "\n",
    "if a<b:\n",
    "    print('messi')\n",
    "else:\n",
    "    print('ronaldo')\n",
    "print('afsan')"
   ]
  },
  {
   "cell_type": "code",
   "execution_count": 2,
   "id": "68469d6b",
   "metadata": {},
   "outputs": [
    {
     "name": "stdout",
     "output_type": "stream",
     "text": [
      "messi\n",
      "mnyamar\n",
      "afsan\n"
     ]
    }
   ],
   "source": [
    "a= 10\n",
    "b= 20\n",
    "\n",
    "if a<20:\n",
    "    print('messi')\n",
    "else:\n",
    "    print('mnappe')\n",
    "if b<=20:\n",
    "    print('mnyamar')\n",
    "else:\n",
    "    print('ronaldo')\n",
    "print('afsan')"
   ]
  },
  {
   "cell_type": "code",
   "execution_count": 4,
   "id": "35f97eb1",
   "metadata": {},
   "outputs": [
    {
     "name": "stdout",
     "output_type": "stream",
     "text": [
      "enter the number9\n",
      "not in range\n"
     ]
    }
   ],
   "source": [
    "num= int(input('enter the number'))\n",
    "\n",
    "if num==0:\n",
    "    print('zero')\n",
    "elif num==1:\n",
    "    print('one')\n",
    "elif num==2:\n",
    "    print('Two')\n",
    "elif num==3:\n",
    "    print('three')\n",
    "elif num==4:\n",
    "    print('four')\n",
    "else:\n",
    "    print(\"not in range\")"
   ]
  },
  {
   "cell_type": "code",
   "execution_count": 7,
   "id": "f38b8c92",
   "metadata": {},
   "outputs": [
    {
     "name": "stdout",
     "output_type": "stream",
     "text": [
      " Enter the palindrome\"madam\"\n",
      "it's a palidrome\n"
     ]
    }
   ],
   "source": [
    "#write the code string is palindrome or not\n",
    "\n",
    "num1= eval(input(\" Enter the palindrome\"))\n",
    "if num1==num1[::-1]:\n",
    "    print(\"it's a palidrome\")\n",
    "else:\n",
    "    print(\"sorry its not a palindrome\")"
   ]
  },
  {
   "cell_type": "code",
   "execution_count": 10,
   "id": "ac332204",
   "metadata": {},
   "outputs": [
    {
     "name": "stdout",
     "output_type": "stream",
     "text": [
      "Enter first number: 34\n",
      "Enter second number: 23\n",
      "Enter third number: 10\n",
      "The maximum number among the three numbers is: 34\n"
     ]
    }
   ],
   "source": [
    "#take 3 number from the user and find the max out of the those 3 nuumber\n",
    "\n",
    "num1 = int(input(\"Enter first number: \"))\n",
    "num2 = int(input(\"Enter second number: \"))\n",
    "num3 = int(input(\"Enter third number: \"))\n",
    "\n",
    "# finding the maximum number\n",
    "max_num = max(num1, num2, num3)\n",
    "\n",
    "# printing the maximum number\n",
    "print(\"The maximum number among the three numbers is:\", max_num)"
   ]
  },
  {
   "cell_type": "code",
   "execution_count": 9,
   "id": "5277bcb1",
   "metadata": {},
   "outputs": [
    {
     "name": "stdout",
     "output_type": "stream",
     "text": [
      "Enter the year2023\n",
      "not leap year\n"
     ]
    }
   ],
   "source": [
    "#find a year entered by the user is a leap year or not\n",
    "\n",
    "year= int(input(\"Enter the year\"))\n",
    "\n",
    "if year%4==0:\n",
    "    print(\"leap year\")\n",
    "else:\n",
    "    print(\"not leap year\")"
   ]
  },
  {
   "cell_type": "markdown",
   "id": "c4174880",
   "metadata": {},
   "source": [
    "# Loops"
   ]
  },
  {
   "cell_type": "code",
   "execution_count": 14,
   "id": "712203a3",
   "metadata": {},
   "outputs": [
    {
     "name": "stdout",
     "output_type": "stream",
     "text": [
      "hii\n",
      "hii\n",
      "hii\n",
      "hii\n",
      "hii\n",
      "hii\n",
      "heya\n",
      "heya\n",
      "heya\n"
     ]
    }
   ],
   "source": [
    "for i in range(0,9):\n",
    "    if i>5:\n",
    "        print(\"heya\")\n",
    "    else:\n",
    "        print(\"hii\")"
   ]
  },
  {
   "cell_type": "code",
   "execution_count": 16,
   "id": "2ba45d93",
   "metadata": {},
   "outputs": [
    {
     "name": "stdout",
     "output_type": "stream",
     "text": [
      "afsan\n",
      "afsan\n",
      "afsan\n",
      "afsan\n",
      "heya\n"
     ]
    }
   ],
   "source": [
    "for i in [1,2,3,4]:\n",
    "    print(\"afsan\")\n",
    "else:\n",
    "    print(\"heya\")"
   ]
  },
  {
   "cell_type": "code",
   "execution_count": 17,
   "id": "30018274",
   "metadata": {},
   "outputs": [
    {
     "name": "stdout",
     "output_type": "stream",
     "text": [
      "[10, 20] 10\n",
      "[10, 20] 20\n",
      "[30, 40] 30\n",
      "[30, 40] 40\n",
      "[50, 60] 50\n",
      "[50, 60] 60\n"
     ]
    }
   ],
   "source": [
    "a= [[10,20],[30,40],[50,60]]\n",
    "\n",
    "for i in a:\n",
    "    for j in i:\n",
    "        print(i,j)"
   ]
  },
  {
   "cell_type": "code",
   "execution_count": 19,
   "id": "d066903e",
   "metadata": {},
   "outputs": [
    {
     "name": "stdout",
     "output_type": "stream",
     "text": [
      "p\n",
      "yy\n",
      "ttt\n",
      "hhhh\n",
      "ooooo\n",
      "nnnnnn\n",
      "p\n",
      "yy\n",
      "ttt\n",
      "hhhh\n",
      "ooooo\n",
      "nnnnnn\n"
     ]
    }
   ],
   "source": [
    "a= 'python'\n",
    "\n",
    "for i in range(0,len(a)):\n",
    "    print(a[i]*(i+1))\n",
    "    \n",
    "    \n",
    "\n",
    "i=0\n",
    "while i<len(a):\n",
    "    print(a[i]*(i+1))\n",
    "    i+=1"
   ]
  },
  {
   "cell_type": "code",
   "execution_count": 3,
   "id": "8de3f1ab",
   "metadata": {},
   "outputs": [
    {
     "name": "stdout",
     "output_type": "stream",
     "text": [
      "Enter the number45\n",
      "Enter the number33\n",
      "45 Maximum Number\n"
     ]
    }
   ],
   "source": [
    "# find the maximum number between 2 numbers\n",
    "\n",
    "a= int(input(\"Enter the number\"))\n",
    "b= int(input(\"Enter the number\"))\n",
    "\n",
    "if a>b:\n",
    "    print(a, \"Maximum Number\")\n",
    "else:\n",
    "    print(b, \"Maximum Number\")"
   ]
  },
  {
   "cell_type": "code",
   "execution_count": 5,
   "id": "7c1f1bb1",
   "metadata": {},
   "outputs": [
    {
     "name": "stdout",
     "output_type": "stream",
     "text": [
      "Enter the number45\n",
      "Enter the number34\n",
      "Enter the number78\n",
      "78 the maximum number\n"
     ]
    }
   ],
   "source": [
    "# find the maximum number between 3 numbers\n",
    "\n",
    "a= int(input(\"Enter the number\"))\n",
    "b= int(input(\"Enter the number\"))\n",
    "c= int(input(\"Enter the number\"))\n",
    "\n",
    "if a>b and a>c:\n",
    "    print(a,\"the maximum number\")\n",
    "elif b>a and b>c:\n",
    "    print(b,\"the maximum number\")\n",
    "else:\n",
    "    print(c,\"the maximum number\")\n"
   ]
  },
  {
   "cell_type": "code",
   "execution_count": 7,
   "id": "cd43fa93",
   "metadata": {},
   "outputs": [
    {
     "name": "stdout",
     "output_type": "stream",
     "text": [
      "1\n",
      "2\n",
      "3\n",
      "4\n",
      "5\n",
      "6\n",
      "7\n",
      "8\n",
      "9\n",
      "10\n"
     ]
    }
   ],
   "source": [
    "#write 1 to 10\n",
    "\n",
    "i= 1\n",
    "while (i<=10):\n",
    "    print(i)\n",
    "    i+=1"
   ]
  },
  {
   "cell_type": "code",
   "execution_count": 8,
   "id": "65cff719",
   "metadata": {},
   "outputs": [
    {
     "name": "stdout",
     "output_type": "stream",
     "text": [
      "enter the number7\n",
      "1\n",
      "2\n",
      "3\n",
      "4\n",
      "5\n",
      "6\n",
      "7\n"
     ]
    }
   ],
   "source": [
    "#write 1 to 10 by n \n",
    "\n",
    "n= int(input('enter the number'))\n",
    "i=n\n",
    "while (i<=n):\n",
    "    print(i)\n",
    "    i+=1"
   ]
  },
  {
   "cell_type": "code",
   "execution_count": 10,
   "id": "dffb31af",
   "metadata": {},
   "outputs": [
    {
     "name": "stdout",
     "output_type": "stream",
     "text": [
      "10\n",
      "9\n",
      "8\n",
      "7\n",
      "6\n",
      "5\n",
      "4\n",
      "3\n",
      "2\n",
      "1\n"
     ]
    }
   ],
   "source": [
    "#write 10 to 1\n",
    "\n",
    "i= 10\n",
    "while (i>=1):\n",
    "    print(i)\n",
    "    i-=1"
   ]
  },
  {
   "cell_type": "code",
   "execution_count": 13,
   "id": "fd60748a",
   "metadata": {},
   "outputs": [
    {
     "name": "stdout",
     "output_type": "stream",
     "text": [
      "enter the number9\n",
      "9\n",
      "8\n",
      "7\n",
      "6\n",
      "5\n",
      "4\n",
      "3\n",
      "2\n",
      "1\n"
     ]
    }
   ],
   "source": [
    "n= int(input('enter the number'))\n",
    "i = n\n",
    "while (i>=1):\n",
    "    print(i)\n",
    "    i-=1"
   ]
  },
  {
   "cell_type": "code",
   "execution_count": 14,
   "id": "d9a0a442",
   "metadata": {},
   "outputs": [
    {
     "name": "stdout",
     "output_type": "stream",
     "text": [
      "enter the number3\n",
      "sum= 6\n"
     ]
    }
   ],
   "source": [
    "#write a program to find the sum from 1 to n\n",
    "\n",
    "n= int(input(\"enter the number\"))\n",
    "i=1\n",
    "sum= 0\n",
    "while (i<=n):\n",
    "    sum= sum+i\n",
    "    i+=1\n",
    "print(\"sum=\", sum)"
   ]
  },
  {
   "cell_type": "code",
   "execution_count": 15,
   "id": "7b4f0596",
   "metadata": {},
   "outputs": [
    {
     "name": "stdout",
     "output_type": "stream",
     "text": [
      "enter the number3\n",
      "sum= 14\n"
     ]
    }
   ],
   "source": [
    "#write a program to find the sum of square from 1 to n\n",
    "\n",
    "\n",
    "n= int(input(\"enter the number\"))\n",
    "i=1\n",
    "sum= 0\n",
    "while (i<=n):\n",
    "    sum= sum+(i*i)\n",
    "    i+=1\n",
    "print(\"sum=\", sum)"
   ]
  },
  {
   "cell_type": "code",
   "execution_count": 17,
   "id": "4e42cc0b",
   "metadata": {},
   "outputs": [
    {
     "name": "stdout",
     "output_type": "stream",
     "text": [
      "enter the number20\n",
      "2\n",
      "4\n",
      "6\n",
      "8\n",
      "10\n",
      "12\n",
      "14\n",
      "16\n",
      "18\n",
      "20\n"
     ]
    }
   ],
   "source": [
    "#write a program to print only even numbers between 1 to n\n",
    "\n",
    "n= int(input(\"enter the number\"))\n",
    "i=2\n",
    "\n",
    "while (i<=n):\n",
    "    print(i)\n",
    "    i+=2"
   ]
  },
  {
   "cell_type": "code",
   "execution_count": 18,
   "id": "aa44ec2c",
   "metadata": {},
   "outputs": [
    {
     "name": "stdout",
     "output_type": "stream",
     "text": [
      "enter the number10\n",
      "sum of the even numbers= 30\n"
     ]
    }
   ],
   "source": [
    "#write a program to print sum of even numbers between 1 to n\n",
    "n= int(input(\"enter the number\"))\n",
    "i=2\n",
    "sum= 0\n",
    "while (i<=n):\n",
    "    sum= sum+i\n",
    "    i+=2\n",
    "print(\"sum of the even numbers=\", sum)"
   ]
  },
  {
   "cell_type": "code",
   "execution_count": 20,
   "id": "a0e885f7",
   "metadata": {},
   "outputs": [
    {
     "name": "stdout",
     "output_type": "stream",
     "text": [
      "enter the value45\n",
      "reverse number is : 54\n"
     ]
    }
   ],
   "source": [
    "#Python Program to Reverse of a Number \n",
    "\n",
    "i= int(input(\"enter the value\"))\n",
    "rev = 0\n",
    "\n",
    "while (i>0):\n",
    "    rev= (rev*10)+i%10\n",
    "    i = i//10\n",
    "print(\"reverse number is :\" ,rev)"
   ]
  },
  {
   "cell_type": "code",
   "execution_count": null,
   "id": "98ff722c",
   "metadata": {},
   "outputs": [],
   "source": []
  }
 ],
 "metadata": {
  "kernelspec": {
   "display_name": "Python 3 (ipykernel)",
   "language": "python",
   "name": "python3"
  },
  "language_info": {
   "codemirror_mode": {
    "name": "ipython",
    "version": 3
   },
   "file_extension": ".py",
   "mimetype": "text/x-python",
   "name": "python",
   "nbconvert_exporter": "python",
   "pygments_lexer": "ipython3",
   "version": "3.9.7"
  }
 },
 "nbformat": 4,
 "nbformat_minor": 5
}
