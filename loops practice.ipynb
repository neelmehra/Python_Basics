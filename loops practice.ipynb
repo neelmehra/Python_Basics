{
 "cells": [
  {
   "cell_type": "code",
   "execution_count": 1,
   "id": "2aa3e185",
   "metadata": {},
   "outputs": [
    {
     "name": "stdout",
     "output_type": "stream",
     "text": [
      "enter the number24\n",
      "enter the number35\n",
      "sum of two digit 59\n"
     ]
    }
   ],
   "source": [
    "#Python Program to Add Two Number\n",
    "\n",
    "a= int(input(\"enter the number\"))\n",
    "b= int(input(\"enter the number\"))\n",
    "num= a+b\n",
    "\n",
    "print(\"sum of two digit\", num)"
   ]
  },
  {
   "cell_type": "code",
   "execution_count": 3,
   "id": "2ec3ec67",
   "metadata": {},
   "outputs": [
    {
     "name": "stdout",
     "output_type": "stream",
     "text": [
      "enter the number90\n",
      "the square root 9.486832980505138\n"
     ]
    }
   ],
   "source": [
    "#Find & Calculate Square Root Program in Python\n",
    "\n",
    "a= int(input(\"enter the number\"))\n",
    "sr = a**(1/2)\n",
    "\n",
    "print(\"the square root\", sr)"
   ]
  },
  {
   "cell_type": "code",
   "execution_count": 9,
   "id": "0b1fb72f",
   "metadata": {},
   "outputs": [
    {
     "name": "stdout",
     "output_type": "stream",
     "text": [
      "12\n",
      "13\n",
      "12\n",
      "value of x 13\n",
      "value of y 12\n"
     ]
    }
   ],
   "source": [
    "#Swap Two Variables in Python (using third variable)\n",
    "\n",
    "x= 12\n",
    "y =13\n",
    "\n",
    "temp = x\n",
    "print(temp)\n",
    "\n",
    "x= y\n",
    "print(x)\n",
    "\n",
    "y= temp\n",
    "print(y)\n",
    "\n",
    "print(\"value of x\", x)\n",
    "print(\"value of y\", y)"
   ]
  },
  {
   "cell_type": "code",
   "execution_count": 12,
   "id": "28dc20d7",
   "metadata": {},
   "outputs": [
    {
     "name": "stdout",
     "output_type": "stream",
     "text": [
      "enter the number-2\n",
      "Negative\n"
     ]
    }
   ],
   "source": [
    "#Is a Number Positive Negative or Zero?\n",
    "\n",
    "n= int(input(\"enter the number\"))\n",
    "\n",
    "if n >0:\n",
    "    print(\"positive number\")\n",
    "elif num==0:\n",
    "    print(\"zero\")\n",
    "else:\n",
    "    print(\"Negative\")"
   ]
  },
  {
   "cell_type": "code",
   "execution_count": 14,
   "id": "081ac9ae",
   "metadata": {},
   "outputs": [
    {
     "name": "stdout",
     "output_type": "stream",
     "text": [
      "enter the number3\n",
      "it is a prime number\n"
     ]
    }
   ],
   "source": [
    "#Python Program to Check Prime Number\n",
    "\n",
    "num= int(input(\"enter the number\"))\n",
    "\n",
    "if num==1:\n",
    "    print(\"it is not a prime number\")\n",
    "if num>1:\n",
    "    for i in range(2,num):\n",
    "        if num% i ==0:\n",
    "            print(\"it is not a prime number\")\n",
    "            break\n",
    "    else:\n",
    "        print(\"it is a prime number\")"
   ]
  },
  {
   "cell_type": "code",
   "execution_count": 7,
   "id": "3577c29c",
   "metadata": {},
   "outputs": [
    {
     "name": "stdout",
     "output_type": "stream",
     "text": [
      "enter the number\"hello!! how are you??? I am fine...\"\n",
      "hello how are you I am fine\n"
     ]
    }
   ],
   "source": [
    "#How to Remove Punctuations From a String\n",
    "\n",
    "punc = '''!@#$%^&*()_.+{}:\"?><~\"'''\n",
    "\n",
    "string = input(\"enter the number\")\n",
    "\n",
    "empty_str= \"\"\n",
    "\n",
    "for i in string:\n",
    "    if i not in punc:\n",
    "        empty_str+= i\n",
    "print(empty_str)"
   ]
  },
  {
   "cell_type": "code",
   "execution_count": 2,
   "id": "68ff24f5",
   "metadata": {},
   "outputs": [
    {
     "name": "stdout",
     "output_type": "stream",
     "text": [
      "even number\n"
     ]
    }
   ],
   "source": [
    "#write a program for even numbers\n",
    "\n",
    "#functions defination\n",
    "\n",
    "def even_odd(num):\n",
    "    \n",
    "    if num%2==0:\n",
    "        print(\"even number\")\n",
    "    else:\n",
    "        print(\"odd number\")\n",
    "        \n",
    "#function call\n",
    "even_odd(456)"
   ]
  },
  {
   "cell_type": "code",
   "execution_count": 3,
   "id": "977de3dd",
   "metadata": {},
   "outputs": [],
   "source": [
    "def employee_data(*args, **kwargs):\n",
    "    '''\n",
    "    args = tuple\n",
    "    kwargs = dict\n",
    "    \n",
    "    '''\n",
    "    print(args)\n",
    "    print(kwargs)"
   ]
  },
  {
   "cell_type": "code",
   "execution_count": 4,
   "id": "e6eef118",
   "metadata": {},
   "outputs": [
    {
     "name": "stdout",
     "output_type": "stream",
     "text": [
      "('afsan', 'khan', 33)\n",
      "{'employee_state': 'Goa', 'employee_location': 'India'}\n"
     ]
    }
   ],
   "source": [
    "employee_data('afsan', 'khan', 33, employee_state = 'Goa', employee_location= 'India')"
   ]
  },
  {
   "cell_type": "code",
   "execution_count": 6,
   "id": "5728c805",
   "metadata": {},
   "outputs": [],
   "source": [
    "def sum(a,b):\n",
    "    c= a+b\n",
    "    return c"
   ]
  },
  {
   "cell_type": "code",
   "execution_count": 8,
   "id": "a8429727",
   "metadata": {},
   "outputs": [],
   "source": [
    "output = sum(3,4)"
   ]
  },
  {
   "cell_type": "code",
   "execution_count": 9,
   "id": "21a61a80",
   "metadata": {},
   "outputs": [
    {
     "data": {
      "text/plain": [
       "7"
      ]
     },
     "execution_count": 9,
     "metadata": {},
     "output_type": "execute_result"
    }
   ],
   "source": [
    "output"
   ]
  },
  {
   "cell_type": "code",
   "execution_count": 13,
   "id": "b084db72",
   "metadata": {},
   "outputs": [],
   "source": [
    "x= lambda a: 'even' if a %2==0 else 'false'"
   ]
  },
  {
   "cell_type": "code",
   "execution_count": 14,
   "id": "4eb05e30",
   "metadata": {},
   "outputs": [
    {
     "data": {
      "text/plain": [
       "'even'"
      ]
     },
     "execution_count": 14,
     "metadata": {},
     "output_type": "execute_result"
    }
   ],
   "source": [
    "x(20)"
   ]
  },
  {
   "cell_type": "code",
   "execution_count": 16,
   "id": "945919f8",
   "metadata": {},
   "outputs": [
    {
     "name": "stdout",
     "output_type": "stream",
     "text": [
      "130\n",
      "100\n",
      "<function <lambda> at 0x000001C450A1D550>\n"
     ]
    },
    {
     "ename": "NameError",
     "evalue": "name 'y' is not defined",
     "output_type": "error",
     "traceback": [
      "\u001b[1;31m---------------------------------------------------------------------------\u001b[0m",
      "\u001b[1;31mNameError\u001b[0m                                 Traceback (most recent call last)",
      "\u001b[1;32m~\\AppData\\Local\\Temp/ipykernel_10704/350953419.py\u001b[0m in \u001b[0;36m<module>\u001b[1;34m\u001b[0m\n\u001b[0;32m      8\u001b[0m \u001b[0mprint\u001b[0m\u001b[1;33m(\u001b[0m\u001b[0ma\u001b[0m\u001b[1;33m)\u001b[0m\u001b[1;33m\u001b[0m\u001b[1;33m\u001b[0m\u001b[0m\n\u001b[0;32m      9\u001b[0m \u001b[0mprint\u001b[0m\u001b[1;33m(\u001b[0m\u001b[0mx\u001b[0m\u001b[1;33m)\u001b[0m \u001b[1;31m#this is local var\u001b[0m\u001b[1;33m\u001b[0m\u001b[1;33m\u001b[0m\u001b[0m\n\u001b[1;32m---> 10\u001b[1;33m \u001b[0mprint\u001b[0m\u001b[1;33m(\u001b[0m\u001b[0my\u001b[0m\u001b[1;33m)\u001b[0m \u001b[1;31m#this is local var\u001b[0m\u001b[1;33m\u001b[0m\u001b[1;33m\u001b[0m\u001b[0m\n\u001b[0m\u001b[0;32m     11\u001b[0m \u001b[0mprint\u001b[0m\u001b[1;33m(\u001b[0m\u001b[0mc\u001b[0m\u001b[1;33m)\u001b[0m \u001b[1;31m#this is local var\u001b[0m\u001b[1;33m\u001b[0m\u001b[1;33m\u001b[0m\u001b[0m\n",
      "\u001b[1;31mNameError\u001b[0m: name 'y' is not defined"
     ]
    }
   ],
   "source": [
    "a= 100 # tis is global varible\n",
    "\n",
    "def sum(x,y):\n",
    "    c= a+x+y\n",
    "    print(c)\n",
    "\n",
    "sum(10,20)\n",
    "print(a)\n",
    "print(x) #this is local var\n",
    "print(y) #this is local var\n",
    "print(c) #this is local var"
   ]
  },
  {
   "cell_type": "code",
   "execution_count": 1,
   "id": "5a03671b",
   "metadata": {},
   "outputs": [],
   "source": [
    "lst= ['asdh@gmail.com', 'huei@gmail.com', 'kope@gmail.com','hko45@yahoo.com','ahmad@hotmail.com', 'afmad@hotmail.com', \n",
    "    'dfmad@hotmail.com']"
   ]
  },
  {
   "cell_type": "code",
   "execution_count": 3,
   "id": "ec4ecdae",
   "metadata": {},
   "outputs": [
    {
     "data": {
      "text/plain": [
       "['asdh@gmail.com', 'huei@gmail.com', 'kope@gmail.com']"
      ]
     },
     "execution_count": 3,
     "metadata": {},
     "output_type": "execute_result"
    }
   ],
   "source": [
    "list(filter(lambda email: True if email.split('@')[1]=='gmail.com' else False, lst))"
   ]
  },
  {
   "cell_type": "code",
   "execution_count": 4,
   "id": "49e960b4",
   "metadata": {},
   "outputs": [
    {
     "data": {
      "text/plain": [
       "['asdh', 'huei', 'kope', 'hko45', 'ahmad', 'afmad', 'dfmad']"
      ]
     },
     "execution_count": 4,
     "metadata": {},
     "output_type": "execute_result"
    }
   ],
   "source": [
    "list(map(lambda email: email.split('@')[0], lst))"
   ]
  },
  {
   "cell_type": "code",
   "execution_count": 6,
   "id": "538adf4f",
   "metadata": {},
   "outputs": [
    {
     "name": "stdout",
     "output_type": "stream",
     "text": [
      "['In', 'Out', '_', '_2', '_3', '_4', '__', '___', '__builtin__', '__builtins__', '__doc__', '__loader__', '__name__', '__package__', '__spec__', '_dh', '_i', '_i1', '_i2', '_i3', '_i4', '_i5', '_i6', '_ih', '_ii', '_iii', '_oh', 'exit', 'get_ipython', 'lst', 'quit']\n"
     ]
    }
   ],
   "source": [
    "print(dir())"
   ]
  },
  {
   "cell_type": "code",
   "execution_count": 7,
   "id": "7d7d619b",
   "metadata": {},
   "outputs": [],
   "source": [
    "import math "
   ]
  },
  {
   "cell_type": "code",
   "execution_count": 8,
   "id": "a5a58d4d",
   "metadata": {},
   "outputs": [
    {
     "name": "stdout",
     "output_type": "stream",
     "text": [
      "['In', 'Out', '_', '_2', '_3', '_4', '__', '___', '__builtin__', '__builtins__', '__doc__', '__loader__', '__name__', '__package__', '__spec__', '_dh', '_i', '_i1', '_i2', '_i3', '_i4', '_i5', '_i6', '_i7', '_i8', '_ih', '_ii', '_iii', '_oh', 'exit', 'get_ipython', 'lst', 'math', 'quit']\n"
     ]
    }
   ],
   "source": [
    "print(dir())"
   ]
  },
  {
   "cell_type": "code",
   "execution_count": 13,
   "id": "afcc803e",
   "metadata": {},
   "outputs": [
    {
     "name": "stdout",
     "output_type": "stream",
     "text": [
      "Enter the number10\n",
      "Enter the number2\n",
      "5.0\n"
     ]
    }
   ],
   "source": [
    "num1= int(input(\"Enter the number\"))\n",
    "num2= int(input(\"Enter the number\"))\n",
    "\n",
    "try:\n",
    "    c= num1/num2\n",
    "except:\n",
    "    print(\"some error\")\n",
    "    \n",
    "print(c)"
   ]
  },
  {
   "cell_type": "code",
   "execution_count": 15,
   "id": "e48c25ab",
   "metadata": {},
   "outputs": [
    {
     "name": "stdout",
     "output_type": "stream",
     "text": [
      "Enter the number10\n",
      "Enter the number0\n",
      "some error\n"
     ]
    }
   ],
   "source": [
    "num1= int(input(\"Enter the number\"))\n",
    "num2= int(input(\"Enter the number\"))\n",
    "\n",
    "try:\n",
    "    c= num1/num2\n",
    "except:\n",
    "    print(\"some error\")\n",
    "else:\n",
    "    print(c)"
   ]
  },
  {
   "cell_type": "code",
   "execution_count": 16,
   "id": "27995468",
   "metadata": {},
   "outputs": [
    {
     "name": "stdout",
     "output_type": "stream",
     "text": [
      "Enter the number10\n",
      "Enter the number2\n",
      "excecuted\n"
     ]
    }
   ],
   "source": [
    "num1= int(input(\"Enter the number\"))\n",
    "num2= int(input(\"Enter the number\"))\n",
    "\n",
    "try:\n",
    "    c= num1/num2\n",
    "except:\n",
    "    print(\"some error\")\n",
    "finally:\n",
    "    print(\"excecuted\")"
   ]
  },
  {
   "cell_type": "code",
   "execution_count": 2,
   "id": "f4558161",
   "metadata": {},
   "outputs": [
    {
     "name": "stdout",
     "output_type": "stream",
     "text": [
      "enter the amount250000\n"
     ]
    },
    {
     "ename": "NameError",
     "evalue": "name 'Myexception' is not defined",
     "output_type": "error",
     "traceback": [
      "\u001b[1;31m---------------------------------------------------------------------------\u001b[0m",
      "\u001b[1;31mNameError\u001b[0m                                 Traceback (most recent call last)",
      "\u001b[1;32m~\\AppData\\Local\\Temp/ipykernel_7792/3996913201.py\u001b[0m in \u001b[0;36m<module>\u001b[1;34m\u001b[0m\n\u001b[0;32m      3\u001b[0m \u001b[1;32mtry\u001b[0m\u001b[1;33m:\u001b[0m\u001b[1;33m\u001b[0m\u001b[1;33m\u001b[0m\u001b[0m\n\u001b[1;32m----> 4\u001b[1;33m     \u001b[0mamt_deposit\u001b[0m\u001b[1;33m(\u001b[0m\u001b[0mamt\u001b[0m\u001b[1;33m)\u001b[0m\u001b[1;33m\u001b[0m\u001b[1;33m\u001b[0m\u001b[0m\n\u001b[0m\u001b[0;32m      5\u001b[0m \u001b[1;32mexcept\u001b[0m \u001b[0mMyexception\u001b[0m \u001b[1;32mas\u001b[0m \u001b[0me\u001b[0m\u001b[1;33m:\u001b[0m\u001b[1;33m\u001b[0m\u001b[1;33m\u001b[0m\u001b[0m\n",
      "\u001b[1;31mNameError\u001b[0m: name 'amt_deposit' is not defined",
      "\nDuring handling of the above exception, another exception occurred:\n",
      "\u001b[1;31mNameError\u001b[0m                                 Traceback (most recent call last)",
      "\u001b[1;32m~\\AppData\\Local\\Temp/ipykernel_7792/3996913201.py\u001b[0m in \u001b[0;36m<module>\u001b[1;34m\u001b[0m\n\u001b[0;32m      3\u001b[0m \u001b[1;32mtry\u001b[0m\u001b[1;33m:\u001b[0m\u001b[1;33m\u001b[0m\u001b[1;33m\u001b[0m\u001b[0m\n\u001b[0;32m      4\u001b[0m     \u001b[0mamt_deposit\u001b[0m\u001b[1;33m(\u001b[0m\u001b[0mamt\u001b[0m\u001b[1;33m)\u001b[0m\u001b[1;33m\u001b[0m\u001b[1;33m\u001b[0m\u001b[0m\n\u001b[1;32m----> 5\u001b[1;33m \u001b[1;32mexcept\u001b[0m \u001b[0mMyexception\u001b[0m \u001b[1;32mas\u001b[0m \u001b[0me\u001b[0m\u001b[1;33m:\u001b[0m\u001b[1;33m\u001b[0m\u001b[1;33m\u001b[0m\u001b[0m\n\u001b[0m\u001b[0;32m      6\u001b[0m     \u001b[0mprint\u001b[0m\u001b[1;33m(\u001b[0m\u001b[0me\u001b[0m\u001b[1;33m)\u001b[0m\u001b[1;33m\u001b[0m\u001b[1;33m\u001b[0m\u001b[0m\n\u001b[0;32m      7\u001b[0m     \u001b[1;32mtry\u001b[0m\u001b[1;33m:\u001b[0m\u001b[1;33m\u001b[0m\u001b[1;33m\u001b[0m\u001b[0m\n",
      "\u001b[1;31mNameError\u001b[0m: name 'Myexception' is not defined"
     ]
    }
   ],
   "source": [
    "amt= int(input(\"enter the amount\"))\n",
    "\n",
    "try:\n",
    "    amt_deposit(amt)\n",
    "except Myexception as e:\n",
    "    print(e)\n",
    "    try:\n",
    "        pan= input(\"enter the pancard\")\n",
    "        submit_pan(pan)\n",
    "    except Myexception as e:\n",
    "        print(e)\n",
    "    "
   ]
  },
  {
   "cell_type": "code",
   "execution_count": 2,
   "id": "9157f36a",
   "metadata": {},
   "outputs": [
    {
     "name": "stdout",
     "output_type": "stream",
     "text": [
      "[10, 10, 10]\n"
     ]
    }
   ],
   "source": [
    "mat1= [1,2,3]\n",
    "mat2= [9,8,7]\n",
    "\n",
    "res= []\n",
    "\n",
    "for i in range (len(mat1)):\n",
    "    res.append(mat1[i]+mat2[i])\n",
    "    \n",
    "print(res)"
   ]
  },
  {
   "cell_type": "code",
   "execution_count": null,
   "id": "4bc20c7f",
   "metadata": {},
   "outputs": [],
   "source": []
  }
 ],
 "metadata": {
  "kernelspec": {
   "display_name": "Python 3 (ipykernel)",
   "language": "python",
   "name": "python3"
  },
  "language_info": {
   "codemirror_mode": {
    "name": "ipython",
    "version": 3
   },
   "file_extension": ".py",
   "mimetype": "text/x-python",
   "name": "python",
   "nbconvert_exporter": "python",
   "pygments_lexer": "ipython3",
   "version": "3.9.7"
  }
 },
 "nbformat": 4,
 "nbformat_minor": 5
}
