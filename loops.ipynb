{
 "cells": [
  {
   "cell_type": "code",
   "execution_count": 2,
   "id": "f1ba3c77",
   "metadata": {},
   "outputs": [
    {
     "name": "stdout",
     "output_type": "stream",
     "text": [
      "a\n",
      "f\n",
      "s\n",
      "a\n",
      "n\n"
     ]
    }
   ],
   "source": [
    "for i in 'afsan':\n",
    "    print(i)"
   ]
  },
  {
   "cell_type": "code",
   "execution_count": 3,
   "id": "1e11ebc6",
   "metadata": {},
   "outputs": [
    {
     "name": "stdout",
     "output_type": "stream",
     "text": [
      "afsan\n",
      "sakshi\n",
      "mohit\n"
     ]
    }
   ],
   "source": [
    "for i in ['afsan', 'sakshi','mohit']:\n",
    "    print(i)"
   ]
  },
  {
   "cell_type": "code",
   "execution_count": 5,
   "id": "eb064abb",
   "metadata": {},
   "outputs": [
    {
     "name": "stdout",
     "output_type": "stream",
     "text": [
      "nasfa\n",
      "ihskas\n",
      "tihom\n"
     ]
    }
   ],
   "source": [
    "for i in ['afsan', 'sakshi','mohit']:\n",
    "    print(i[::-1])"
   ]
  },
  {
   "cell_type": "code",
   "execution_count": 8,
   "id": "676dd6d5",
   "metadata": {},
   "outputs": [
    {
     "name": "stdout",
     "output_type": "stream",
     "text": [
      "2\n",
      "4\n",
      "6\n",
      "8\n",
      "10\n",
      "12\n",
      "14\n",
      "16\n",
      "18\n"
     ]
    }
   ],
   "source": [
    "#print all even numbers\n",
    "\n",
    "for i in range(2,20,2):\n",
    "    print(i)"
   ]
  },
  {
   "cell_type": "code",
   "execution_count": 10,
   "id": "61d14e20",
   "metadata": {},
   "outputs": [
    {
     "name": "stdout",
     "output_type": "stream",
     "text": [
      "1\n",
      "4\n",
      "9\n",
      "16\n",
      "25\n"
     ]
    }
   ],
   "source": [
    "a= [1,2,3,4,5]\n",
    "\n",
    "for i in a:\n",
    "    print(i*i)"
   ]
  },
  {
   "cell_type": "code",
   "execution_count": 11,
   "id": "710c8d6b",
   "metadata": {},
   "outputs": [],
   "source": [
    "#put b in square of a\n",
    "a= [1,2,3,4,5]   \n",
    "b= []\n",
    " \n",
    "for i in a:\n",
    "    b.append(i*i)"
   ]
  },
  {
   "cell_type": "code",
   "execution_count": 12,
   "id": "c621e38a",
   "metadata": {},
   "outputs": [
    {
     "data": {
      "text/plain": [
       "[1, 4, 9, 16, 25]"
      ]
     },
     "execution_count": 12,
     "metadata": {},
     "output_type": "execute_result"
    }
   ],
   "source": [
    "b"
   ]
  },
  {
   "cell_type": "code",
   "execution_count": 14,
   "id": "6b623fd5",
   "metadata": {},
   "outputs": [
    {
     "data": {
      "text/plain": [
       "4"
      ]
     },
     "execution_count": 14,
     "metadata": {},
     "output_type": "execute_result"
    }
   ],
   "source": [
    "#find 1 occurence in the array\n",
    "a1= [1,5,1,2,4,1,3,4,5,1,6,9]\n",
    "\n",
    "a1.count(1)"
   ]
  },
  {
   "cell_type": "code",
   "execution_count": 29,
   "id": "181a56c7",
   "metadata": {},
   "outputs": [],
   "source": [
    "a= ['afsan@gmail.com', 'rahul@gmal.com','harish@hotmail.com','shubham@gmail.com']\n",
    "b=[]\n",
    "\n",
    "\n",
    "for i in a:\n",
    "    b.append(i.split('@')[0])"
   ]
  },
  {
   "cell_type": "code",
   "execution_count": 30,
   "id": "5b0ba900",
   "metadata": {},
   "outputs": [
    {
     "data": {
      "text/plain": [
       "['afsan', 'rahul', 'harish', 'shubham']"
      ]
     },
     "execution_count": 30,
     "metadata": {},
     "output_type": "execute_result"
    }
   ],
   "source": [
    "b"
   ]
  },
  {
   "cell_type": "code",
   "execution_count": 32,
   "id": "4903e3a8",
   "metadata": {},
   "outputs": [
    {
     "data": {
      "text/plain": [
       "['afsan', 'rahul', 'harish', 'shubham']"
      ]
     },
     "execution_count": 32,
     "metadata": {},
     "output_type": "execute_result"
    }
   ],
   "source": [
    "#list comprehension\n",
    "a= ['afsan@gmail.com', 'rahul@gmal.com','harish@hotmail.com','shubham@gmail.com']\n",
    "b= [i.split('@')[0]for i in a]\n",
    "b"
   ]
  },
  {
   "cell_type": "code",
   "execution_count": 33,
   "id": "94d09b86",
   "metadata": {},
   "outputs": [
    {
     "data": {
      "text/plain": [
       "[1, 4, 9, 16, 25, 36]"
      ]
     },
     "execution_count": 33,
     "metadata": {},
     "output_type": "execute_result"
    }
   ],
   "source": [
    "a= [1,2,3,4,5,6]\n",
    "b= [i*i for i in a]\n",
    "b"
   ]
  },
  {
   "cell_type": "code",
   "execution_count": 35,
   "id": "55ee5e80",
   "metadata": {},
   "outputs": [
    {
     "name": "stdout",
     "output_type": "stream",
     "text": [
      "False\n",
      "False\n",
      "True\n",
      "False\n",
      "False\n",
      "True\n",
      "True\n"
     ]
    }
   ],
   "source": [
    "a= [23, 55,22,11,67,78,578]\n",
    "\n",
    "for i in a:\n",
    "    print(i%2==0)"
   ]
  },
  {
   "cell_type": "code",
   "execution_count": 43,
   "id": "af34cdad",
   "metadata": {},
   "outputs": [],
   "source": [
    "a= [23, 55,22,11,67,78,578]\n",
    "b=[]\n",
    "for i in a:\n",
    "    if i%2==0:\n",
    "        b.append(i)"
   ]
  },
  {
   "cell_type": "code",
   "execution_count": 44,
   "id": "e740475c",
   "metadata": {},
   "outputs": [
    {
     "data": {
      "text/plain": [
       "[22, 78, 578]"
      ]
     },
     "execution_count": 44,
     "metadata": {},
     "output_type": "execute_result"
    }
   ],
   "source": [
    "b"
   ]
  },
  {
   "cell_type": "code",
   "execution_count": 46,
   "id": "2dec88eb",
   "metadata": {},
   "outputs": [],
   "source": [
    "a= [23, 55,22,11,67,78,578]\n",
    "b=[i for i in a if i%2==0]\n"
   ]
  },
  {
   "cell_type": "code",
   "execution_count": 47,
   "id": "0e9a876c",
   "metadata": {},
   "outputs": [
    {
     "data": {
      "text/plain": [
       "[22, 78, 578]"
      ]
     },
     "execution_count": 47,
     "metadata": {},
     "output_type": "execute_result"
    }
   ],
   "source": [
    "b"
   ]
  },
  {
   "cell_type": "code",
   "execution_count": 48,
   "id": "bc132d0c",
   "metadata": {},
   "outputs": [],
   "source": [
    "a= ['afsan', 1,3,4]"
   ]
  },
  {
   "cell_type": "code",
   "execution_count": 1,
   "id": "7878194f",
   "metadata": {},
   "outputs": [],
   "source": [
    "a= '1'+'2'\n",
    "print= a"
   ]
  },
  {
   "cell_type": "code",
   "execution_count": 2,
   "id": "1fb650f1",
   "metadata": {},
   "outputs": [
    {
     "data": {
      "text/plain": [
       "'12'"
      ]
     },
     "execution_count": 2,
     "metadata": {},
     "output_type": "execute_result"
    }
   ],
   "source": [
    "a"
   ]
  },
  {
   "cell_type": "code",
   "execution_count": 5,
   "id": "9cb9eb52",
   "metadata": {},
   "outputs": [
    {
     "data": {
      "text/plain": [
       "['a', 'b', ['a', 'b']]"
      ]
     },
     "execution_count": 5,
     "metadata": {},
     "output_type": "execute_result"
    }
   ],
   "source": [
    "l=['a','b']\n",
    "l.append(['a','b'])\n",
    "l\n"
   ]
  },
  {
   "cell_type": "code",
   "execution_count": 9,
   "id": "2d30f33e",
   "metadata": {},
   "outputs": [
    {
     "ename": "TypeError",
     "evalue": "'str' object is not callable",
     "output_type": "error",
     "traceback": [
      "\u001b[1;31m---------------------------------------------------------------------------\u001b[0m",
      "\u001b[1;31mTypeError\u001b[0m                                 Traceback (most recent call last)",
      "\u001b[1;32m~\\AppData\\Local\\Temp/ipykernel_12148/3529903117.py\u001b[0m in \u001b[0;36m<module>\u001b[1;34m\u001b[0m\n\u001b[0;32m      2\u001b[0m \u001b[1;33m\u001b[0m\u001b[0m\n\u001b[0;32m      3\u001b[0m \u001b[1;32mfor\u001b[0m \u001b[0mi\u001b[0m \u001b[1;32min\u001b[0m \u001b[0mA\u001b[0m\u001b[1;33m:\u001b[0m\u001b[1;33m\u001b[0m\u001b[1;33m\u001b[0m\u001b[0m\n\u001b[1;32m----> 4\u001b[1;33m     \u001b[0mprint\u001b[0m\u001b[1;33m(\u001b[0m\u001b[0mi\u001b[0m\u001b[1;33m*\u001b[0m\u001b[1;36m2\u001b[0m\u001b[1;33m)\u001b[0m\u001b[1;33m\u001b[0m\u001b[1;33m\u001b[0m\u001b[0m\n\u001b[0m",
      "\u001b[1;31mTypeError\u001b[0m: 'str' object is not callable"
     ]
    }
   ],
   "source": [
    "A= [1,2,3]\n",
    "\n",
    "for i in A:\n",
    "    print(i*2)"
   ]
  },
  {
   "cell_type": "code",
   "execution_count": 1,
   "id": "9af7327d",
   "metadata": {},
   "outputs": [
    {
     "name": "stdout",
     "output_type": "stream",
     "text": [
      "['__class__', '__class_getitem__', '__contains__', '__delattr__', '__delitem__', '__dir__', '__doc__', '__eq__', '__format__', '__ge__', '__getattribute__', '__getitem__', '__gt__', '__hash__', '__init__', '__init_subclass__', '__ior__', '__iter__', '__le__', '__len__', '__lt__', '__ne__', '__new__', '__or__', '__reduce__', '__reduce_ex__', '__repr__', '__reversed__', '__ror__', '__setattr__', '__setitem__', '__sizeof__', '__str__', '__subclasshook__', 'clear', 'copy', 'fromkeys', 'get', 'items', 'keys', 'pop', 'popitem', 'setdefault', 'update', 'values']\n"
     ]
    }
   ],
   "source": [
    "print(dir(dict))"
   ]
  },
  {
   "cell_type": "code",
   "execution_count": 2,
   "id": "2dad6fd5",
   "metadata": {},
   "outputs": [
    {
     "name": "stdout",
     "output_type": "stream",
     "text": [
      "Enter the age17\n",
      "Not Eligible\n"
     ]
    }
   ],
   "source": [
    "# write a program to check whether an age is able to voting or not\n",
    "\n",
    "a= int(input(\"Enter the age\"))\n",
    "\n",
    "if a>= 18:\n",
    "\n",
    "    print(\"Eligible\")\n",
    "else:\n",
    "    print(\"Not Eligible\")"
   ]
  },
  {
   "cell_type": "code",
   "execution_count": null,
   "id": "1cf7311f",
   "metadata": {},
   "outputs": [],
   "source": []
  }
 ],
 "metadata": {
  "kernelspec": {
   "display_name": "Python 3 (ipykernel)",
   "language": "python",
   "name": "python3"
  },
  "language_info": {
   "codemirror_mode": {
    "name": "ipython",
    "version": 3
   },
   "file_extension": ".py",
   "mimetype": "text/x-python",
   "name": "python",
   "nbconvert_exporter": "python",
   "pygments_lexer": "ipython3",
   "version": "3.9.7"
  }
 },
 "nbformat": 4,
 "nbformat_minor": 5
}
